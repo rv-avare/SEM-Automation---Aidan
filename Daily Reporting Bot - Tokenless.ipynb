{
 "cells": [
  {
   "cell_type": "markdown",
   "metadata": {},
   "source": [
    "Pre-Requisites for this notebook:\n",
    "* Install Anaconda & install redshift_connector with conda\n",
    "* Either launch Jupyter Notebook from Anaconda Navigator or install and setup VS Code with Python and Jupyter Extensions\n",
    "* Connect to VPN\n",
    "* Get your RedShift credentials"
   ]
  },
  {
   "cell_type": "code",
   "execution_count": 1,
   "metadata": {},
   "outputs": [],
   "source": [
    "# Import libraries\n",
    "import numpy as np\n",
    "import pandas as pd\n",
    "import redshift_connector\n",
    "from datetime import datetime\n",
    "from slack_sdk import WebClient\n",
    "from slack_sdk.errors import SlackApiError"
   ]
  },
  {
   "cell_type": "code",
   "execution_count": 2,
   "metadata": {},
   "outputs": [],
   "source": [
    "# Import user credentials from user_credentials.csv file\n",
    "usr_cred = pd.read_csv('user_credentials.csv')\n",
    "username = usr_cred.iloc[0]['Username']\n",
    "passwd = usr_cred.iloc[0]['Password']\n",
    "opnaikey = usr_cred.iloc[0]['OpenAI Key']"
   ]
  },
  {
   "cell_type": "markdown",
   "metadata": {},
   "source": [
    "User credentials are entered onto a local csv file in the format shown below. ***Don't add your credentials to this file, or share your user credentials csv!***\n",
    "| Username    | Password | OpenAI Key |\n",
    "|-------------|----------|------------|\n",
    "| rv-employee | 1234     | 567#       |"
   ]
  },
  {
   "cell_type": "code",
   "execution_count": 3,
   "metadata": {},
   "outputs": [],
   "source": [
    "# Connect to RedShift and pull data\n",
    "# Redshift connection details\n",
    "host = 'dbops-redshift-cluster-apple.cd92olv6lp21.us-east-1.redshift.amazonaws.com'\n",
    "port = '5439'\n",
    "database = 'dev'\n",
    "user = username # Use your username\n",
    "password = passwd # Use your password\n",
    "# Select query 1\n",
    "query_1 = \"\"\"\n",
    "select\n",
    "eventdate,\n",
    "sum(spend) as spend,\n",
    "sum(spend)/nullif(sum((clicks)),0) as CPC,\n",
    "sum(clicks)/nullif(sum((impressions)),0) as CTR,\n",
    "sum(offeraccepted_total) as accounts,\n",
    "sum(offeraccepted_total)/nullif(sum(clicks),0) as CTA,\n",
    "sum(total_apply_now_clickers)/nullif(sum(clicks),0) as CTAN,\n",
    "sum(initiated_total)/nullif(sum(total_apply_now_clickers),0) as initiaterate,\n",
    "sum(submitted_total)/nullif(sum(initiated_total),0) as submitrate,\n",
    "sum(offeraccepted_total)/nullif(sum(approved_total),0) as acceptancerate,\n",
    "sum(approved_total)/nullif(sum(submitted_total),0) as approvalrate,\n",
    "(sum(spend)/nullif(sum(offeraccepted_total),0))*1.17 as GrossCPA,\n",
    "sum(impressions)/nullif(avg((searchimpressionshare)),0) as UOI\n",
    "from apple_reporting.applecard_paidsearch_view\n",
    "where eventdate between (current_date - 3) and (current_date -2)\n",
    "and budgettype ilike 'Performance'\n",
    "group by 1\n",
    "order by 1 DESC;\n",
    "\"\"\"\n",
    "try:\n",
    "    # Connect to Redshift\n",
    "    conn = redshift_connector.connect(\n",
    "        host = host,\n",
    "        port = port,\n",
    "        database = database,\n",
    "        user = user,\n",
    "        password = password\n",
    "    )\n",
    "    # Create a cursor\n",
    "    cursor = conn.cursor()\n",
    "    # Execute the select query\n",
    "    cursor.execute(query_1)\n",
    "    # Fetch all the results\n",
    "    results_1 = cursor.fetchall()\n",
    "    # Close the cursor and connection\n",
    "    cursor.close()\n",
    "    conn.close()\n",
    "except redshift_connector.Error as e:\n",
    "    print('Error connecting to Redshift:', e)"
   ]
  },
  {
   "cell_type": "code",
   "execution_count": 4,
   "metadata": {},
   "outputs": [],
   "source": [
    "# Store data in dataframe and add column names\n",
    "df_performance = pd.DataFrame(results_1)\n",
    "df_performance.columns = ['Date', 'Spend', 'CPC', 'CTR', 'Accounts', 'CTA', 'CTAN', 'Initiate Rate', 'Submit Rate', 'Acceptance Rate', 'Approval Rate',\\\n",
    "              'Gross CPA', 'UOI']"
   ]
  },
  {
   "cell_type": "code",
   "execution_count": 5,
   "metadata": {},
   "outputs": [],
   "source": [
    "# Define some functions\n",
    "def curr_form(amount):\n",
    "    return \"${:,.2f}\".format(amount)\n",
    "\n",
    "def percent_form(amount):\n",
    "    return \"{:.0%}\".format(amount)\n",
    "\n",
    "def change_dod(sum_array):\n",
    "    return (sum_array.iloc[0]/sum_array.iloc[1] - 1)"
   ]
  },
  {
   "cell_type": "code",
   "execution_count": 6,
   "metadata": {},
   "outputs": [],
   "source": [
    "# Generate weekly report top bullet\n",
    "total_spend = df_performance['Spend']\n",
    "total_accounts = df_performance['Accounts']\n",
    "total_cpa = df_performance['Gross CPA']\n",
    "\n",
    "total_cpc = df_performance['CPC']\n",
    "total_ctr = df_performance['CTR']\n",
    "total_uoi = df_performance['UOI']\n",
    "\n",
    "total_ctan = df_performance['CTAN']\n",
    "total_apr = df_performance['Approval Rate']\n",
    "total_acr = df_performance['Acceptance Rate']\n",
    "total_ir = df_performance['Initiate Rate']\n",
    "total_sr = df_performance['Submit Rate']"
   ]
  },
  {
   "cell_type": "code",
   "execution_count": 7,
   "metadata": {},
   "outputs": [],
   "source": [
    "# Spend drivers\n",
    "cpc_change = change_dod(total_cpc)\n",
    "ctr_change = change_dod(total_ctr)\n",
    "uoi_change = change_dod(total_uoi)\n",
    "spend_change = change_dod(total_spend)\n",
    "\n",
    "# Account drivers\n",
    "ctan_change = change_dod(total_ctan)\n",
    "apr_change = change_dod(total_apr)\n",
    "acr_change = change_dod(total_acr)\n",
    "ir_change = change_dod(total_ir)\n",
    "sr_change = change_dod(total_sr)\n",
    "account_change = change_dod(total_accounts)"
   ]
  },
  {
   "cell_type": "code",
   "execution_count": 8,
   "metadata": {},
   "outputs": [
    {
     "name": "stdout",
     "output_type": "stream",
     "text": [
      "UOI\n"
     ]
    }
   ],
   "source": [
    "# Output biggest spend driver\n",
    "x = float('inf')\n",
    "y = []\n",
    "if spend_change < 0:  # Assuming spend_volume_change is your DoD change of spend volume\n",
    "    if x > cpc_change:\n",
    "        x = cpc_change\n",
    "        y = 'CPC'\n",
    "    if x > ctr_change:\n",
    "        x = ctr_change\n",
    "        y = 'CTR'\n",
    "    if x > uoi_change:\n",
    "        x = uoi_change\n",
    "        y = 'UOI'\n",
    "else:  # spend_volume_change is positive\n",
    "    x = float('-inf')  # Reset x to negative infinity\n",
    "    if x < cpc_change:\n",
    "        x = cpc_change\n",
    "        y = 'CPC'\n",
    "    if x < ctr_change:\n",
    "        x = ctr_change\n",
    "        y = 'CTR'\n",
    "    if x < uoi_change:\n",
    "        x = uoi_change\n",
    "        y = 'UOI'\n",
    "\n",
    "print(y)"
   ]
  },
  {
   "cell_type": "code",
   "execution_count": 9,
   "metadata": {},
   "outputs": [
    {
     "name": "stdout",
     "output_type": "stream",
     "text": [
      "Approval Rate\n"
     ]
    }
   ],
   "source": [
    "# Output biggest account driver\n",
    "a = float('inf')\n",
    "b = []\n",
    "if account_change < 0:  # Assuming account_change is your DoD change of account volume\n",
    "    if a > ctan_change:\n",
    "        a = ctan_change\n",
    "        b = 'CTAN'\n",
    "    if a > apr_change:\n",
    "        a = apr_change\n",
    "        b = 'Approval Rate'\n",
    "    if a > acr_change:\n",
    "        a = acr_change\n",
    "        b = 'Acceptance Rate'\n",
    "    if a > ir_change:\n",
    "        a = ir_change\n",
    "        b = 'Initiate Rate'\n",
    "    if a > sr_change:\n",
    "        a = sr_change\n",
    "        b = 'Submit Rate'\n",
    "    if a > ctr_change:\n",
    "        a = ctr_change\n",
    "        b = 'CTR'\n",
    "    if a > uoi_change:\n",
    "        a = uoi_change\n",
    "        b = 'UOI'\n",
    "else:  # account_change is positive\n",
    "    a = float('-inf')  # Reset a to negative infinity\n",
    "    if a < ctan_change:\n",
    "        a = ctan_change\n",
    "        b = 'CTAN'\n",
    "    if a < apr_change:\n",
    "        a = apr_change\n",
    "        b = 'Approval Rate'\n",
    "    if a < acr_change:\n",
    "        a = acr_change\n",
    "        b = 'Acceptance Rate'\n",
    "    if a < ir_change:\n",
    "        a = ir_change\n",
    "        b = 'Initiate Rate'\n",
    "    if a < sr_change:\n",
    "        a = sr_change\n",
    "        b = 'Submit Rate'\n",
    "    if a < ctr_change:\n",
    "        a = ctr_change\n",
    "        b = 'CTR'\n",
    "    if a < uoi_change:\n",
    "        a = uoi_change\n",
    "        b = 'UOI'\n",
    "\n",
    "print(b)"
   ]
  },
  {
   "cell_type": "code",
   "execution_count": 10,
   "metadata": {},
   "outputs": [
    {
     "name": "stdout",
     "output_type": "stream",
     "text": [
      "Search spent $28,491.08 (2% DoD) driving 242 accounts (-5% DoD) and yielding a $137.75 CPA (8% DoD). The main driver for spend is UOI (13% DoD). The main driver for accounts is Approval Rate (-9% DoD).\n"
     ]
    }
   ],
   "source": [
    "top_bullet = \"Search spent {} ({} DoD) driving {} accounts ({} DoD) and yielding a {} CPA ({} DoD). The main driver for spend is {} ({} DoD). The main driver for accounts is {} ({} DoD).\".format(\\\n",
    "    curr_form(total_spend.iloc[0]), percent_form(change_dod(total_spend)), round(total_accounts[0]), percent_form(change_dod(total_accounts)),\n",
    "        curr_form(total_cpa[0]), percent_form(change_dod(total_cpa)), y, percent_form(x), b, percent_form(a))\n",
    "print(top_bullet)"
   ]
  }
 ],
 "metadata": {
  "kernelspec": {
   "display_name": "Python 3 (ipykernel)",
   "language": "python",
   "name": "python3"
  },
  "language_info": {
   "codemirror_mode": {
    "name": "ipython",
    "version": 3
   },
   "file_extension": ".py",
   "mimetype": "text/x-python",
   "name": "python",
   "nbconvert_exporter": "python",
   "pygments_lexer": "ipython3",
   "version": "3.10.9"
  }
 },
 "nbformat": 4,
 "nbformat_minor": 2
}
